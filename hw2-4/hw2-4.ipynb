{
 "cells": [
  {
   "cell_type": "markdown",
   "id": "8aed9096-d0ad-4c2d-b8f3-48114ffa82bf",
   "metadata": {},
   "source": [
    "### HW 2-4 Using Pytorch C++ API to do model analysis on the transformed model graph"
   ]
  },
  {
   "cell_type": "code",
   "execution_count": 6,
   "id": "dac2670f-2258-48c5-9fd4-7a26b8f6da7c",
   "metadata": {},
   "outputs": [
    {
     "name": "stderr",
     "output_type": "stream",
     "text": [
      "/opt/conda/envs/tensorflow/lib/python3.9/site-packages/torchvision/models/_utils.py:208: UserWarning: The parameter 'pretrained' is deprecated since 0.13 and may be removed in the future, please use 'weights' instead.\n",
      "  warnings.warn(\n",
      "/opt/conda/envs/tensorflow/lib/python3.9/site-packages/torchvision/models/_utils.py:223: UserWarning: Arguments other than a weight enum or `None` for 'weights' are deprecated since 0.13 and may be removed in the future. The current behavior is equivalent to passing `weights=AlexNet_Weights.IMAGENET1K_V1`. You can also use `weights=AlexNet_Weights.DEFAULT` to get the most up-to-date weights.\n",
      "  warnings.warn(msg)\n",
      "Downloading: \"https://download.pytorch.org/models/alexnet-owt-7be5be79.pth\" to /home/guofangyu/.cache/torch/hub/checkpoints/alexnet-owt-7be5be79.pth\n",
      "100%|██████████| 233M/233M [00:08<00:00, 28.7MB/s] \n"
     ]
    }
   ],
   "source": [
    "import torch\n",
    "import torchvision\n",
    "\n",
    "# An instance of your model.\n",
    "model = torchvision.models.alexnet(pretrained=True)\n",
    "model.eval()\n",
    "\n",
    "# # An example input you would normally provide to your model's forward() method.\n",
    "example = torch.rand(1, 3, 224, 224)\n",
    "\n",
    "# Use torch.jit.trace to generate a torch.jit.ScriptModule via tracing.\n",
    "traced_script_module = torch.jit.trace(model, example)\n",
    "\n",
    "# Serializing Your Script Module to a File\n",
    "traced_script_module.save(\"traced_resnet_model.pt\")"
   ]
  },
  {
   "cell_type": "code",
   "execution_count": 7,
   "id": "54f4f274-c241-41ea-a762-dbecde3bef77",
   "metadata": {},
   "outputs": [
    {
     "name": "stdout",
     "output_type": "stream",
     "text": [
      "Total number of parameters:  61100840\n"
     ]
    }
   ],
   "source": [
    "total_params = sum(p.numel() for p in model.parameters())\n",
    "print(\"Total number of parameters: \", total_params)"
   ]
  },
  {
   "cell_type": "code",
   "execution_count": 8,
   "id": "ee44497f-dec7-48c6-bd82-1a996d00957e",
   "metadata": {},
   "outputs": [
    {
     "data": {
      "text/plain": [
       "244403360"
      ]
     },
     "execution_count": 8,
     "metadata": {},
     "output_type": "execute_result"
    }
   ],
   "source": [
    "61100840*4"
   ]
  },
  {
   "cell_type": "code",
   "execution_count": 2,
   "id": "ac025540-54a7-4e1c-8798-da0a16a2b77d",
   "metadata": {},
   "outputs": [
    {
     "name": "stderr",
     "output_type": "stream",
     "text": [
      "/opt/conda/envs/tensorflow/lib/python3.9/site-packages/torchvision/models/_utils.py:223: UserWarning: Arguments other than a weight enum or `None` for 'weights' are deprecated since 0.13 and may be removed in the future. The current behavior is equivalent to passing `weights=AlexNet_Weights.IMAGENET1K_V1`. You can also use `weights=AlexNet_Weights.DEFAULT` to get the most up-to-date weights.\n",
      "  warnings.warn(msg)\n",
      "Downloading: \"https://download.pytorch.org/models/alexnet-owt-7be5be79.pth\" to /home/guofangyu/.cache/torch/hub/checkpoints/alexnet-owt-7be5be79.pth\n",
      "100%|██████████| 233M/233M [01:19<00:00, 3.08MB/s] \n"
     ]
    },
    {
     "name": "stdout",
     "output_type": "stream",
     "text": [
      "AlexNet(\n",
      "  (features): Sequential(\n",
      "    (0): Conv2d(3, 64, kernel_size=(11, 11), stride=(4, 4), padding=(2, 2))\n",
      "    (1): ReLU(inplace=True)\n",
      "    (2): MaxPool2d(kernel_size=3, stride=2, padding=0, dilation=1, ceil_mode=False)\n",
      "    (3): Conv2d(64, 192, kernel_size=(5, 5), stride=(1, 1), padding=(2, 2))\n",
      "    (4): ReLU(inplace=True)\n",
      "    (5): MaxPool2d(kernel_size=3, stride=2, padding=0, dilation=1, ceil_mode=False)\n",
      "    (6): Conv2d(192, 384, kernel_size=(3, 3), stride=(1, 1), padding=(1, 1))\n",
      "    (7): ReLU(inplace=True)\n",
      "    (8): Conv2d(384, 256, kernel_size=(3, 3), stride=(1, 1), padding=(1, 1))\n",
      "    (9): ReLU(inplace=True)\n",
      "    (10): Conv2d(256, 256, kernel_size=(3, 3), stride=(1, 1), padding=(1, 1))\n",
      "    (11): ReLU(inplace=True)\n",
      "    (12): MaxPool2d(kernel_size=3, stride=2, padding=0, dilation=1, ceil_mode=False)\n",
      "  )\n",
      "  (avgpool): AdaptiveAvgPool2d(output_size=(6, 6))\n",
      "  (classifier): Sequential(\n",
      "    (0): Dropout(p=0.5, inplace=False)\n",
      "    (1): Linear(in_features=9216, out_features=4096, bias=True)\n",
      "    (2): ReLU(inplace=True)\n",
      "    (3): Dropout(p=0.5, inplace=False)\n",
      "    (4): Linear(in_features=4096, out_features=4096, bias=True)\n",
      "    (5): ReLU(inplace=True)\n",
      "    (6): Linear(in_features=4096, out_features=1000, bias=True)\n",
      "  )\n",
      ")\n",
      "Total number of parameters:  61100840\n"
     ]
    }
   ],
   "source": [
    "import torchvision.models as models\n",
    "\n",
    "# 加載 GoogLeNet 模型\n",
    "model = models.alexnet(pretrained=True)\n",
    "print(model)\n",
    "\n",
    "input_shape = (1, 3, 224, 224)\n",
    "\n",
    "\n",
    "total_params = sum(p.numel() for p in model.parameters())\n",
    "print(\"Total number of parameters: \", total_params)"
   ]
  },
  {
   "cell_type": "code",
   "execution_count": 4,
   "id": "5cad6f32-8dce-47f1-ab05-c34746e41c63",
   "metadata": {},
   "outputs": [
    {
     "data": {
      "text/plain": [
       "==========================================================================================\n",
       "Layer (type:depth-idx)                   Input Shape               Output Shape\n",
       "==========================================================================================\n",
       "AlexNet                                  [1, 3, 224, 224]          [1, 1000]\n",
       "├─Sequential: 1-1                        [1, 3, 224, 224]          [1, 256, 6, 6]\n",
       "│    └─Conv2d: 2-1                       [1, 3, 224, 224]          [1, 64, 55, 55]\n",
       "│    └─ReLU: 2-2                         [1, 64, 55, 55]           [1, 64, 55, 55]\n",
       "│    └─MaxPool2d: 2-3                    [1, 64, 55, 55]           [1, 64, 27, 27]\n",
       "│    └─Conv2d: 2-4                       [1, 64, 27, 27]           [1, 192, 27, 27]\n",
       "│    └─ReLU: 2-5                         [1, 192, 27, 27]          [1, 192, 27, 27]\n",
       "│    └─MaxPool2d: 2-6                    [1, 192, 27, 27]          [1, 192, 13, 13]\n",
       "│    └─Conv2d: 2-7                       [1, 192, 13, 13]          [1, 384, 13, 13]\n",
       "│    └─ReLU: 2-8                         [1, 384, 13, 13]          [1, 384, 13, 13]\n",
       "│    └─Conv2d: 2-9                       [1, 384, 13, 13]          [1, 256, 13, 13]\n",
       "│    └─ReLU: 2-10                        [1, 256, 13, 13]          [1, 256, 13, 13]\n",
       "│    └─Conv2d: 2-11                      [1, 256, 13, 13]          [1, 256, 13, 13]\n",
       "│    └─ReLU: 2-12                        [1, 256, 13, 13]          [1, 256, 13, 13]\n",
       "│    └─MaxPool2d: 2-13                   [1, 256, 13, 13]          [1, 256, 6, 6]\n",
       "├─AdaptiveAvgPool2d: 1-2                 [1, 256, 6, 6]            [1, 256, 6, 6]\n",
       "├─Sequential: 1-3                        [1, 9216]                 [1, 1000]\n",
       "│    └─Dropout: 2-14                     [1, 9216]                 [1, 9216]\n",
       "│    └─Linear: 2-15                      [1, 9216]                 [1, 4096]\n",
       "│    └─ReLU: 2-16                        [1, 4096]                 [1, 4096]\n",
       "│    └─Dropout: 2-17                     [1, 4096]                 [1, 4096]\n",
       "│    └─Linear: 2-18                      [1, 4096]                 [1, 4096]\n",
       "│    └─ReLU: 2-19                        [1, 4096]                 [1, 4096]\n",
       "│    └─Linear: 2-20                      [1, 4096]                 [1, 1000]\n",
       "==========================================================================================\n",
       "Total params: 61,100,840\n",
       "Trainable params: 61,100,840\n",
       "Non-trainable params: 0\n",
       "Total mult-adds (M): 714.68\n",
       "==========================================================================================\n",
       "Input size (MB): 0.60\n",
       "Forward/backward pass size (MB): 3.95\n",
       "Params size (MB): 244.40\n",
       "Estimated Total Size (MB): 248.96\n",
       "=========================================================================================="
      ]
     },
     "execution_count": 4,
     "metadata": {},
     "output_type": "execute_result"
    }
   ],
   "source": [
    "import torchinfo\n",
    "input_shape = (3, 224, 224)\n",
    "torchinfo.summary(model, input_shape, batch_dim = 0, col_names=(\"input_size\", \"output_size\"), verbose=0)"
   ]
  },
  {
   "cell_type": "code",
   "execution_count": 6,
   "id": "1c0e8e49-d898-45c3-81b9-bef94d4efb63",
   "metadata": {},
   "outputs": [
    {
     "name": "stdout",
     "output_type": "stream",
     "text": [
      "Activation memory storage requirement: 4437728 byte (4.23MB)\n"
     ]
    }
   ],
   "source": [
    "import torchvision.models as models\n",
    "import torch\n",
    "activation = {}\n",
    "# Define a hook function\n",
    "def get_activation(name):\n",
    "    def hook(model, input, output):\n",
    "        activation[name] = output.detach()\n",
    "    return hook\n",
    "\n",
    "# Load a pre-trained AlexNet model\n",
    "# model = models.mobilenet_v2(pretrained=True)\n",
    "# model.eval()\n",
    "model.eval()\n",
    "# Dictionary to store activations from each layer\n",
    "activation = {}\n",
    "\n",
    "# Register hook to each linear layer\n",
    "for layer_name, layer in model.named_modules():\n",
    "    layer.register_forward_hook(get_activation(layer_name))\n",
    "\n",
    "# Run model inference\n",
    "data = torch.randn(1, 3, 224, 224)\n",
    "output = model(data)\n",
    "\n",
    "# Access the saved activations\n",
    "local_memory = 0\n",
    "for layer in activation:\n",
    "    # 所有 layer 的 tensor 皆為 float32，因此以 4 byte 計算\n",
    "    local_memory += torch.numel(activation[layer])*4\n",
    "    # print(f\"Activation from layer {layer}: {activation[layer].shape}\")\n",
    "\n",
    "print(f\"Activation memory storage requirement: {local_memory} byte ({round(local_memory/1048576, 2)}MB)\")"
   ]
  },
  {
   "cell_type": "code",
   "execution_count": 12,
   "id": "8993473e-e224-405f-bd11-8afd0d9784c4",
   "metadata": {},
   "outputs": [
    {
     "name": "stdout",
     "output_type": "stream",
     "text": [
      "(64, 55, 55)\n",
      "kernel ops = 363.0, 11*11*3 / 1\n",
      "output-elements = 3025, 1 55*55\n",
      "layer_out_channel = 64\n",
      "Layer: features.0, Type: Conv2d, Input Shape: (3, 224, 224), Output Shape: (64, 55, 55), MACs: 70276800\n",
      "===\n",
      "(64, 55, 55)\n",
      "(64, 27, 27)\n",
      "(192, 27, 27)\n",
      "kernel ops = 1600.0, 5*5*64 / 1\n",
      "output-elements = 729, 1 27*27\n",
      "layer_out_channel = 192\n",
      "Layer: features.3, Type: Conv2d, Input Shape: (64, 27, 27), Output Shape: (192, 27, 27), MACs: 223948800\n",
      "===\n",
      "(192, 27, 27)\n",
      "(192, 13, 13)\n",
      "(384, 13, 13)\n",
      "kernel ops = 1728.0, 3*3*192 / 1\n",
      "output-elements = 169, 1 13*13\n",
      "layer_out_channel = 384\n",
      "Layer: features.6, Type: Conv2d, Input Shape: (192, 13, 13), Output Shape: (384, 13, 13), MACs: 112140288\n",
      "===\n",
      "(384, 13, 13)\n",
      "(256, 13, 13)\n",
      "kernel ops = 3456.0, 3*3*384 / 1\n",
      "output-elements = 169, 1 13*13\n",
      "layer_out_channel = 256\n",
      "Layer: features.8, Type: Conv2d, Input Shape: (384, 13, 13), Output Shape: (256, 13, 13), MACs: 149520384\n",
      "===\n",
      "(256, 13, 13)\n",
      "(256, 13, 13)\n",
      "kernel ops = 2304.0, 3*3*256 / 1\n",
      "output-elements = 169, 1 13*13\n",
      "layer_out_channel = 256\n",
      "Layer: features.10, Type: Conv2d, Input Shape: (256, 13, 13), Output Shape: (256, 13, 13), MACs: 99680256\n",
      "===\n",
      "(256, 13, 13)\n",
      "(256, 6, 6)\n",
      "(4096,)\n",
      "Layer: classifier.1, Type: Linear, Input Shape: (256, 6, 6), Output Shape: (4096,), MACs: 37748736\n",
      "===\n",
      "(4096,)\n",
      "(4096,)\n",
      "Layer: classifier.4, Type: Linear, Input Shape: (4096,), Output Shape: (4096,), MACs: 16777216\n",
      "===\n",
      "(4096,)\n",
      "(1000,)\n",
      "Layer: classifier.6, Type: Linear, Input Shape: (4096,), Output Shape: (1000,), MACs: 4096000\n",
      "===\n",
      "Total MACs: 714188480\n"
     ]
    }
   ],
   "source": [
    "import torch.nn.functional as F\n",
    "import torch.nn as nn\n",
    "import torch\n",
    "import torchvision\n",
    "\n",
    "def calculate_output_shape(input_shape, layer):\n",
    "    # Calculate the output shape for Conv2d, MaxPool2d, and Linear layers\n",
    "    if isinstance(layer, (nn.Conv2d, nn.MaxPool2d)):\n",
    "        kernel_size = (\n",
    "            layer.kernel_size\n",
    "            if isinstance(layer.kernel_size, tuple)\n",
    "            else (layer.kernel_size, layer.kernel_size)\n",
    "        )\n",
    "        stride = (\n",
    "            layer.stride\n",
    "            if isinstance(layer.stride, tuple)\n",
    "            else (layer.stride, layer.stride)\n",
    "        )\n",
    "        padding = (\n",
    "            layer.padding\n",
    "            if isinstance(layer.padding, tuple)\n",
    "            else (layer.padding, layer.padding)\n",
    "        )\n",
    "        dilation = (\n",
    "            layer.dilation\n",
    "            if isinstance(layer.dilation, tuple)\n",
    "            else (layer.dilation, layer.dilation)\n",
    "        )\n",
    "\n",
    "        output_height = (\n",
    "            input_shape[1] + 2 * padding[0] - dilation[0] * (kernel_size[0] - 1) - 1\n",
    "        ) // stride[0] + 1\n",
    "        output_width = (\n",
    "            input_shape[2] + 2 * padding[1] - dilation[1] * (kernel_size[1] - 1) - 1\n",
    "        ) // stride[1] + 1\n",
    "        return (\n",
    "            layer.out_channels if hasattr(layer, \"out_channels\") else input_shape[0],\n",
    "            output_height,\n",
    "            output_width,\n",
    "        )\n",
    "    elif isinstance(layer, nn.Linear):\n",
    "        # For Linear layers, the output shape is simply the layer's output features\n",
    "        return (layer.out_features,)\n",
    "    else:\n",
    "        return input_shape\n",
    "\n",
    "\n",
    "def calculate_macs(layer, input_shape, output_shape):\n",
    "    # Calculate MACs for Conv2d and Linear layers\n",
    "    if isinstance(layer, nn.Conv2d):\n",
    "        kernel_ops = (\n",
    "            layer.kernel_size[0]\n",
    "            * layer.kernel_size[1]\n",
    "            * (layer.in_channels / layer.groups)\n",
    "        )\n",
    "        output_elements = output_shape[1] * output_shape[2]\n",
    "        print(f\"kernel ops = {kernel_ops}, {layer.kernel_size[0]}*{layer.kernel_size[1]}*{layer.in_channels} / {layer.groups}\")\n",
    "        print(f\"output-elements = {output_elements}, 1 {output_shape[1]}*{output_shape[2]}\")\n",
    "        print(f\"layer_out_channel = {layer.out_channels}\")\n",
    "        \n",
    "        macs = int(kernel_ops * output_elements * layer.out_channels)\n",
    "        return macs\n",
    "    elif isinstance(layer, nn.Linear):\n",
    "        # For Linear layers, MACs are the product of input features and output features\n",
    "        macs = int(layer.in_features * layer.out_features)\n",
    "        return macs\n",
    "    else:\n",
    "        return 0\n",
    "\n",
    "model = torchvision.models.alexnet(pretrained=True)\n",
    "model.eval()\n",
    "\n",
    "# Initial input shape\n",
    "input_shape = (3, 224, 224)\n",
    "total_macs = 0\n",
    "\n",
    "# Iterate through the layers of the model\n",
    "for name, layer in model.named_modules():\n",
    "    if isinstance(layer, (nn.Conv2d, nn.MaxPool2d, nn.ReLU, nn.Linear)):\n",
    "        output_shape = calculate_output_shape(input_shape, layer)\n",
    "        print(output_shape)\n",
    "        macs = calculate_macs(layer, input_shape, output_shape)\n",
    "        total_macs += macs\n",
    "        if isinstance(layer, (nn.Conv2d, nn.Linear)):\n",
    "            print(\n",
    "                f\"Layer: {name}, Type: {type(layer).__name__}, Input Shape: {input_shape}, Output Shape: {output_shape}, MACs: {macs}\"\n",
    "            )\n",
    "            print(\"===\")\n",
    "        # elif isinstance(layer, nn.MaxPool2d):\n",
    "        #     # Also print shape transformation for MaxPool2d layers (no MACs calculated)\n",
    "        #     # print(\n",
    "        #     #     f\"Layer: {name}, Type: {type(layer).__name__}, Input Shape: {input_shape}, Output Shape: {output_shape}, MACs: N/A\"\n",
    "        #     # )\n",
    "        input_shape = output_shape  # Update the input shape for the next layer\n",
    "\n",
    "print(f\"Total MACs: {total_macs}\")"
   ]
  },
  {
   "cell_type": "code",
   "execution_count": 1,
   "id": "d7909ade-d1fe-45e5-97eb-0cbd76959ee6",
   "metadata": {},
   "outputs": [
    {
     "data": {
      "text/plain": [
       "44864"
      ]
     },
     "execution_count": 1,
     "metadata": {},
     "output_type": "execute_result"
    }
   ],
   "source": [
    "4437728 - 4392864"
   ]
  },
  {
   "cell_type": "code",
   "execution_count": null,
   "id": "51fab42a-69ae-40a9-83ba-f5febad58df0",
   "metadata": {},
   "outputs": [],
   "source": []
  }
 ],
 "metadata": {
  "kernelspec": {
   "display_name": "Python 3 (ipykernel)",
   "language": "python",
   "name": "python3"
  },
  "language_info": {
   "codemirror_mode": {
    "name": "ipython",
    "version": 3
   },
   "file_extension": ".py",
   "mimetype": "text/x-python",
   "name": "python",
   "nbconvert_exporter": "python",
   "pygments_lexer": "ipython3",
   "version": "3.9.18"
  }
 },
 "nbformat": 4,
 "nbformat_minor": 5
}
